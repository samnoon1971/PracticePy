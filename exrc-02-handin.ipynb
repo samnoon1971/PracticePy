import pandas as pd
df = pd.read_csv("weather_2022-12.csv")

# Filter for relative humidity (RH)
df_filtered = df[df["ParameterName"].str.startswith("RH")]

# Calculate average relative humidity, ignoring NaN values
average_rh = df_filtered["ParameterValue"].mean(skipna=True)

# Print result
print(f"Average relative humidity: {average_rh:.1f}%")


# AI Prompts Used (Tool: Google Gemini)
# Start Prompt
# Sample data:
# Time,ParameterName,ParameterValue
# 2022-12-01T00:00:00Z,TA_PT1H_AVG,-2.4
# 2022-12-01T00:00:00Z,TA_PT1H_MAX,-2.3
# 2022-12-01T00:00:00Z,TA_PT1H_MIN,-2.4
# 2022-12-01T00:00:00Z,RH_PT1H_AVG,98.0

# Given following info:
# contains hourly weather observations from Jyväskylä, Finland.

# | Abbreviation | Meaning |
# | --- | --- |
# | TA | Temperature Average |
# | RH | Relative Humidity |
# | WS | Wind Speed |
# | WD | Wind Direction |
# | PRA | Precipitation Amount |
# | PRI | Precipitation Intensity |
# | PA | Pressure Average |
# | WAWA | Most Significant Weather Code |

# Calculate the average relative humidity over the full timespan covered in the data, dropping any NaN values.
# Language should be python with required libraries
# End Prompt
